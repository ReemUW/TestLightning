{
 "cells": [
  {
   "cell_type": "code",
   "execution_count": 1,
   "metadata": {
    "collapsed": false
   },
   "outputs": [
    {
     "name": "stderr",
     "output_type": "stream",
     "text": [
      "also installing the dependencies ‘RJSONIO’, ‘RCurl’\n",
      "\n"
     ]
    },
    {
     "name": "stdout",
     "output_type": "stream",
     "text": [
      "\n",
      "The downloaded binary packages are in\n",
      "\t/var/folders/46/s2_whq1x6z1_pxkh3t43m4dm0000gn/T//RtmpBVqDdi/downloaded_packages\n"
     ]
    }
   ],
   "source": [
    "install.packages(\"LightningR\")"
   ]
  },
  {
   "cell_type": "code",
   "execution_count": 2,
   "metadata": {
    "collapsed": false
   },
   "outputs": [
    {
     "name": "stderr",
     "output_type": "stream",
     "text": [
      "Loading required package: RJSONIO\n",
      "Loading required package: RCurl\n",
      "Loading required package: bitops\n",
      "Loading required package: R6\n",
      "Loading required package: httr\n"
     ]
    }
   ],
   "source": [
    "library(LightningR)\n",
    "vizserver <- Lightning$new(\"http://my-lightning.herokuapp.com/\")"
   ]
  },
  {
   "cell_type": "code",
   "execution_count": 3,
   "metadata": {
    "collapsed": false
   },
   "outputs": [
    {
     "data": {
      "text/html": [
       "<dl>\n",
       "\t<dt>$name</dt>\n",
       "\t\t<dd>'Test'</dd>\n",
       "\t<dt>$id</dt>\n",
       "\t\t<dd>141</dd>\n",
       "\t<dt>$updatedAt</dt>\n",
       "\t\t<dd>'2017-04-09T23:47:20.216Z'</dd>\n",
       "\t<dt>$createdAt</dt>\n",
       "\t\t<dd>'2017-04-09T23:47:20.216Z'</dd>\n",
       "\t<dt>$identifier</dt>\n",
       "\t\t<dd>'adb66ab7-bdfb-435e-ab5b-a0b10ab36f3c'</dd>\n",
       "</dl>\n"
      ],
      "text/latex": [
       "\\begin{description}\n",
       "\\item[\\$name] 'Test'\n",
       "\\item[\\$id] 141\n",
       "\\item[\\$updatedAt] '2017-04-09T23:47:20.216Z'\n",
       "\\item[\\$createdAt] '2017-04-09T23:47:20.216Z'\n",
       "\\item[\\$identifier] 'adb66ab7-bdfb-435e-ab5b-a0b10ab36f3c'\n",
       "\\end{description}\n"
      ],
      "text/markdown": [
       "$name\n",
       ":   'Test'\n",
       "$id\n",
       ":   141\n",
       "$updatedAt\n",
       ":   '2017-04-09T23:47:20.216Z'\n",
       "$createdAt\n",
       ":   '2017-04-09T23:47:20.216Z'\n",
       "$identifier\n",
       ":   'adb66ab7-bdfb-435e-ab5b-a0b10ab36f3c'\n",
       "\n",
       "\n"
      ],
      "text/plain": [
       "$name\n",
       "[1] \"Test\"\n",
       "\n",
       "$id\n",
       "[1] 141\n",
       "\n",
       "$updatedAt\n",
       "[1] \"2017-04-09T23:47:20.216Z\"\n",
       "\n",
       "$createdAt\n",
       "[1] \"2017-04-09T23:47:20.216Z\"\n",
       "\n",
       "$identifier\n",
       "[1] \"adb66ab7-bdfb-435e-ab5b-a0b10ab36f3c\"\n"
      ]
     },
     "metadata": {},
     "output_type": "display_data"
    }
   ],
   "source": [
    "vizserver$createsession(\"Test\")"
   ]
  },
  {
   "cell_type": "code",
   "execution_count": 8,
   "metadata": {
    "collapsed": false
   },
   "outputs": [
    {
     "data": {
      "text/html": [
       "<dl>\n",
       "\t<dt>$url</dt>\n",
       "\t\t<dd>'http://my-lightning.herokuapp.com/visualizations/236/'</dd>\n",
       "\t<dt>$id</dt>\n",
       "\t\t<dd>236</dd>\n",
       "</dl>\n"
      ],
      "text/latex": [
       "\\begin{description}\n",
       "\\item[\\$url] 'http://my-lightning.herokuapp.com/visualizations/236/'\n",
       "\\item[\\$id] 236\n",
       "\\end{description}\n"
      ],
      "text/markdown": [
       "$url\n",
       ":   'http://my-lightning.herokuapp.com/visualizations/236/'\n",
       "$id\n",
       ":   236\n",
       "\n",
       "\n"
      ],
      "text/plain": [
       "$url\n",
       "[1] \"http://my-lightning.herokuapp.com/visualizations/236/\"\n",
       "\n",
       "$id\n",
       "[1] 236\n"
      ]
     },
     "metadata": {},
     "output_type": "display_data"
    }
   ],
   "source": [
    "vizserver$line(c(1,2,3,4,5,6,7,8))"
   ]
  },
  {
   "cell_type": "markdown",
   "metadata": {},
   "source": [
    "http://my-lightning.herokuapp.com/visualizations/235/"
   ]
  },
  {
   "cell_type": "code",
   "execution_count": 5,
   "metadata": {
    "collapsed": true
   },
   "outputs": [],
   "source": [
    "vizserver$openviz(234)"
   ]
  },
  {
   "cell_type": "code",
   "execution_count": 6,
   "metadata": {
    "collapsed": true
   },
   "outputs": [],
   "source": [
    "vizserver$enableautoopening()"
   ]
  }
 ],
 "metadata": {
  "kernelspec": {
   "display_name": "R",
   "language": "R",
   "name": "ir"
  },
  "language_info": {
   "codemirror_mode": "r",
   "file_extension": ".r",
   "mimetype": "text/x-r-source",
   "name": "R",
   "pygments_lexer": "r",
   "version": "3.3.2"
  }
 },
 "nbformat": 4,
 "nbformat_minor": 2
}
